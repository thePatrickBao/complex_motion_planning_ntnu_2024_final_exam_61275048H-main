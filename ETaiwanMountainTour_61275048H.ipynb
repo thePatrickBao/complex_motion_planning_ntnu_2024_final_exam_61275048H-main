{
 "cells": [
  {
   "cell_type": "code",
   "execution_count": 1,
   "id": "c48b3858",
   "metadata": {},
   "outputs": [],
   "source": [
    "\n",
    "import matplotlib.pyplot as plt\n",
    "import numpy as np\n",
    "import random\n",
    "import math\n",
    "from IPython.display import display, HTML\n",
    "import cv2\n",
    "    "
   ]
  },
  {
   "cell_type": "code",
   "execution_count": 2,
   "id": "78f74363",
   "metadata": {},
   "outputs": [
    {
     "name": "stdout",
     "output_type": "stream",
     "text": [
      "STUDENT ID 61275048h\n",
      "STUDENT NAME Patrick Bao\n"
     ]
    }
   ],
   "source": [
    "\n",
    "student_id = input(\"Enter your student id\")\n",
    "student_name = input(\"Enter your name\")\n",
    "print(\"STUDENT ID\", student_id)\n",
    "print(\"STUDENT NAME\", student_name)\n"
   ]
  },
  {
   "cell_type": "markdown",
   "id": "690532d1",
   "metadata": {},
   "source": [
    "<!-- <div class=\"question_frame\"> --><!-- start of question_frame -->\n"
   ]
  },
  {
   "cell_type": "markdown",
   "id": "7672f6b0",
   "metadata": {},
   "source": [
    "\n",
    "<h1>Mountains of Taiwan</h1>\n",
    "<div class=\"question_body\">\n",
    "\n",
    "<p>Taiwan has some amazing scenery and many mountains to explore.\n",
    "Given is a <a href=\"data:text/plain;charset=utf-8;base64,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\" download=\"taiwan_mountains.py\">\n",
    "list of some of the mountains</a> and their height in meters.</p>\n",
    "\n",
    "<p>As an example, we will use the following smaller list during the explanation.</p>\n",
    "<div style=\"display:block;text-align:center\">\n",
    "\n",
    "<table \" >\n",
    "\n",
    "<thead>\n",
    "<tr>\n",
    "\n",
    "<th>\n",
    "Name\n",
    "</th>\n",
    "\n",
    "<th>\n",
    "Height\n",
    "</th>\n",
    "\n",
    "</tr>\n",
    "</thead>\n",
    "\n",
    "<tbody>\n",
    "\n",
    "<tr>\n",
    "\n",
    "<td>\n",
    "Jiabeili\n",
    "</td>\n",
    "\n",
    "<td>\n",
    "2903\n",
    "</td>\n",
    "\n",
    "</tr>\n",
    "\n",
    "<tr>\n",
    "\n",
    "<td>\n",
    "Tafen\n",
    "</td>\n",
    "\n",
    "<td>\n",
    "3070\n",
    "</td>\n",
    "\n",
    "</tr>\n",
    "\n",
    "<tr>\n",
    "\n",
    "<td>\n",
    "Batongguan\n",
    "</td>\n",
    "\n",
    "<td>\n",
    "3335\n",
    "</td>\n",
    "\n",
    "</tr>\n",
    "\n",
    "<tr>\n",
    "\n",
    "<td>\n",
    "Bilu\n",
    "</td>\n",
    "\n",
    "<td>\n",
    "3371\n",
    "</td>\n",
    "\n",
    "</tr>\n",
    "\n",
    "<tr>\n",
    "\n",
    "<td>\n",
    "Wuming\n",
    "</td>\n",
    "\n",
    "<td>\n",
    "3451\n",
    "</td>\n",
    "\n",
    "</tr>\n",
    "\n",
    "<tr>\n",
    "\n",
    "<td>\n",
    "Cloud\n",
    "</td>\n",
    "\n",
    "<td>\n",
    "3564\n",
    "</td>\n",
    "\n",
    "</tr>\n",
    "\n",
    "</tbody>\n",
    "</table>\n",
    "\n",
    "</div>\n",
    "\n",
    "<p>Prof. J and his wife enjoy hiking in the mountains, but they have an\n",
    "unusual method of selecting their next trip.\n",
    "In order to stay motivated, they only choose mountains for their next climb\n",
    "that are taller, but not taller than 200 m than the previous mountain\n",
    "that they climbed.\n",
    "So the list of mountains that they climb must always be strictly monotonically\n",
    "increasing by not more than 200 m.\n",
    "</p>\n",
    "\n",
    "<p>Note that a trip does not need to start at the smallest mountain, and\n",
    "does not need to end at the tallest mountain.</p>\n",
    "\n",
    "<p>Implement a python routine <code>is_possible_ordering</code> that returns True/False if a sequence of mountains\n",
    "is possible given Prof. J's method of selecting the next mountain.</p>\n",
    "\n",
    "</div><!-- end of question_body -->\n"
   ]
  },
  {
   "cell_type": "code",
   "execution_count": null,
   "id": "afab90a6",
   "metadata": {},
   "outputs": [],
   "source": [
    "taiwan_mountains = [(\"Beikeke'erbo\", 2902), ('Andongkun', 2903), ('Jiabeili', 2903), ('Shiwan', 2905), ('Wangtai', 2907), ('Jingjie', 2910), ('Zhiwan', 2913), ('Luli', 2914), ('Sanchi', 2919), ('Xibadulan', 2920), ('Apolan', 2922), (\"Keke'erbo\", 2926), ('Jinzi', 2928), ('Meinaitian', 2930), ('Duiguan', 2936), ('Luntaiwun', 2937), ('Jilong', 2938), ('Kashe', 2947), ('Wumeilangbang', 2950), ('Baiguchi', 2957), ('Wule', 2972), ('Guanmen', 2975), ('Zhiliangjie', 2976), ('Moyemingbing', 2976), ('Yibahou', 2979), ('Heiyan', 2980), ('Mudan', 2980), ('Nanmayang', 2980), ('Xiaoshigong', 2980), ('Lu', 2981), ('Chayan', 2987), ('Jiuxian', 2987), ('Wufanaiwei', 2987), ('Saike', 2989), ('Xiaoxue', 2997), ('Shangzhi', 2997), ('Liushun', 3000), ('Xiazhizhu', 3000), ('Jinzi', 3005), ('Yunshui', 3013), ('Dalishi', 3014), ('Bulakesang', 3020), ('Guanmen', 3022), ('Maxibaxiu', 3022), ('Wukedongke', 3022), ('Bashawan', 3029), ('Dashigong', 3030), ('Wumeilangpang', 3031), ('Yangtou', 3035), ('Abala', 3044), ('Yusui', 3045), ('Qingshui', 3048), ('Shuangzi', 3049), ('Linzhuan', 3053), ('Puluoxikuo', 3055), ('Guangtou', 3060), ('Awangnalai', 3061), ('Andongjun', 3068), ('Liwu', 3070), ('Tafen', 3070), ('Kehan', 3080), ('Xiluan', 3081), ('Zhimahan', 3085), ('Beidawu', 3092), (\"Kahe'er\", 3100), ('Patuolu', 3101), ('Baishi', 3110), ('Rendai', 3110), ('Jiali', 3112), ('Kuhanuoxin', 3115), ('Xinxian', 3120), ('Kelaye', 3133), ('Zhimo', 3140), ('Shenmazhen', 3141), ('Xihehuan', 3145), ('Jiuhua', 3155), ('Ganshu', 3158), ('Lianli', 3161), ('Batuonuofu', 3165), ('Beimian', 3167), ('Shuan', 3168), ('Zhongxue', 3173), ('Hainuonan', 3175), ('Lulilaluo', 3175), ('Guanshanling', 3176), ('Dafenjian', 3190), (\"Yeba'ao\", 3192), ('Beibilu', 3193), ('Tailunaxi', 3200), ('Youpolan', 3208), ('Hongyai', 3210), ('Shilun', 3210), ('Mabishan', 3211), ('Hehuanjian', 3217), ('Taguan', 3222), ('Konglongjian', 3230), ('Wushuang', 3231), ('Danan', 3239), ('Mu', 3241), ('Wangxiang', 3241), ('Yixiqingmazhi', 3245), ('Xiaoguan', 3249), ('Malubalarang', 3250), ('Pingfeng', 3250), ('Shangzhizhu', 3250), ('Jian', 3253), ('Wandong', 3258), ('Yingzizui', 3262), ('Jun', 3263), ('Neiling′er', 3270), ('Shimen', 3270), ('Lingming', 3272), ('Xitou', 3272), ('Kexipanan', 3276), ('Lulu', 3279), ('Jiannanjian', 3280), ('Taroko', 3283), ('Ganzhuowan', 3284), ('Bufuqihan', 3290), ('Duanlengdong', 3290), ('Ju', 3290), ('Mobaolai', 3290), ('Beinan', 3295), ('Yize', 3297), ('Chiyou', 3303), ('Wangyai', 3307), ('Huoshi', 3310), ('Duanlengxi', 3313), ('Jiayang', 3314), ('Tiangongbaolei', 3315), ('Tao', 3325), ('Manaike', 3326), ('Xinkang', 3331), ('Batongguan', 3335), ('Panshi', 3335), ('Bugan', 3339), ('Dan', 3340), ('Zhijiayang', 3340), ('Limen', 3340), ('Baigu', 3341), ('Badufu', 3345), ('Huangdangkuo', 3348), ('Nenggao', 3349), ('Dongbajian', 3360), ('Nanshuangtou', 3360), ('Zhuoshe', 3369), ('Bilu', 3371), ('Gongshui', 3374), ('Guimenguan', 3380), ('Kaluolou', 3380), ('Nadashuiku', 3381), ('Qilaili', 3383), ('Nanyu', 3383), ('Buchenxilun', 3384), ('Zhongbajian', 3392), ('Bashalayun', 3402), ('Tiannankelang', 3404), ('Fuwan', 3417), ('Xiaobajian', 3418), ('Hehuan', 3422), ('Qilaichi', 3430), ('Jupen', 3432), ('Zhu', 3437), ('Buxiulan', 3438), ('Pipida', 3440), ('Maxi', 3443), ('Benxiang', 3447), ('Baba', 3449), ('Wuming', 3451), ('Dongluan', 3468), ('Jundong', 3477), ('Maliyawenlu', 3483), ('Dabajian', 3492), ('Sancha', 3496), ('Taosai', 3500), ('Touying', 3510), ('Wudapei', 3512), ('Sumida', 3517), ('Qijun', 3519), (\"Kelekele'an\", 3520), ('Pintian', 3524), ('Daxue', 3530), ('Nanhubei', 3536), ('Malijianan', 3546), ('Cloud', 3564), ('Dajian', 3594), ('Xiangyang', 3603), ('Qilai', 3608), ('Cuichisancha', 3610), ('Dongjun', 3619), ('Mutelebu', 3626), ('Dashuiku', 3630), ('Matelan', 3660), ('Guan', 3668), ('Central', 3705), ('Dongxiaonan', 3711), ('Kailantekun', 3730), ('Nanhu', 3742), ('Mabolasi', 3765), ('Xiuguluan', 3825), ('Xueshan', 3886), ('Yushan', 3952)]"
   ]
  },
  {
   "cell_type": "code",
   "execution_count": null,
   "id": "352268cd",
   "metadata": {},
   "outputs": [],
   "source": [
    "\n",
    "<code>\n",
    "<pre>\n",
    "is_possible_trip( [ \"Jiabeili\",\"Bilu\",\"Cloud\",\"Wuming\", taiwan_mountains ) = False\n",
    "is_possible_trip( [ \"Batongguan\",\"Wuming\",\"Cloud\", taiwan_mountains ) = True\n",
    "is_possible_trip( [ \"Tafen\",\"Jiabeili\",\"Wuming\",\"Cloud\",\"Batongguan\", taiwan_mountains ) = False\n",
    "is_possible_trip( [ \"Bilu\",\"Cloud\",\"Jiabeili\", taiwan_mountains ) = False\n",
    "is_possible_trip( [ \"Batongguan\",\"Bilu\",\"Wuming\", taiwan_mountains ) = True\n",
    "is_possible_trip( [ \"Bilu\",\"Wuming\",\"Cloud\", taiwan_mountains ) = True\n",
    "\n",
    "</pre>\n",
    "</code>\n"
   ]
  },
  {
   "cell_type": "markdown",
   "id": "ae02c20a",
   "metadata": {},
   "source": [
    "\n",
    "<div class=\"question_marks\">\n",
    "<span class=\"mark_num\" style=\"text-align:right\">6</span> marks\n",
    "</div><!-- end of question_marks -->\n"
   ]
  },
  {
   "cell_type": "code",
   "execution_count": 6,
   "id": "f9af4ead",
   "metadata": {},
   "outputs": [],
   "source": [
    "\n",
    "def is_possible_ordering(mountains):\n",
    "    for i in range(len(mountains) - 1):\n",
    "        if not (0 < mountains[i+1] - mountains[i] <= 200):\n",
    "            return False\n",
    "    return True\n",
    "\n"
   ]
  },
  {
   "cell_type": "markdown",
   "id": "965ecfcf",
   "metadata": {},
   "source": [
    "<p>Show your work and explain your answer in this cell. You can add additional markdown and code cells, if you want to after this cell.</p>"
   ]
  },
  {
   "cell_type": "markdown",
   "id": "ec084d94",
   "metadata": {},
   "source": [
    "<!-- </div> --><!-- end of question_frame -->\n"
   ]
  },
  {
   "cell_type": "markdown",
   "id": "331d05bd",
   "metadata": {},
   "source": [
    "\n",
    "<h1>Runtime Estimate of <code>is_possible_trip</code></h1>\n",
    "<div class=\"question_body\">\n",
    "\n",
    "<p>\n",
    "You measure the runtime of your solution <code>is_possible_trip</code>.\n",
    "Using a list of 300 mountains, your algorithm runs on average 4300 milliseconds.\n",
    "</p>\n",
    "\n",
    "</div><!-- end of question_body -->\n"
   ]
  },
  {
   "cell_type": "markdown",
   "id": "ef5299ca",
   "metadata": {},
   "source": [
    "\n",
    "<div class=\"question_marks\">\n",
    "<span class=\"mark_num\" style=\"text-align:right\">3</span> marks\n",
    "</div><!-- end of question_marks -->\n"
   ]
  },
  {
   "cell_type": "markdown",
   "id": "27d61149",
   "metadata": {},
   "source": [
    "\n",
    "<p>Estimate the average runtime of your algorithm, if you extend the list of mountains\n",
    "to 2100 mountains.</p>\n",
    "<p>\n",
    "Average runtime for a list with 2100 mountains: 30093 milliseconds.\n",
    "</p>\n"
   ]
  },
  {
   "cell_type": "markdown",
   "id": "1a654f02",
   "metadata": {},
   "source": [
    "<p>Show your work and explain your answer in this cell. You can add additional markdown and code cells, if you want to after this cell.</p>"
   ]
  },
  {
   "cell_type": "markdown",
   "id": "6944943d",
   "metadata": {},
   "source": [
    "n1 = 300 t1 = 4300 millisec t2 = (4300/300)x2100 = 30093"
   ]
  },
  {
   "cell_type": "markdown",
   "id": "5b5e1534",
   "metadata": {},
   "source": [
    "<!-- </div> --><!-- end of question_frame -->\n"
   ]
  },
  {
   "cell_type": "markdown",
   "id": "a283ba65",
   "metadata": {},
   "source": [
    "<!-- <div class=\"question_frame\"> --><!-- start of question_frame -->\n"
   ]
  },
  {
   "cell_type": "markdown",
   "id": "a8e0456d",
   "metadata": {},
   "source": [
    "\n",
    "<h1>Maximum Number of Trips</h1>\n",
    "<div class=\"question_body\">\n",
    "\n",
    "<p>Implement a routine that given a list of mountains counts the maximum number\n",
    "of possible trips given the policy of Prof. J.</p>\n",
    "<p>Note that a simple solution can easily be implemented to find the maximum\n",
    "number of possible trips for a small number of mountains.</p>\n",
    "<p>However, a smarter algorithm based on dynamic programming is needed to be\n",
    "able to find the solution to the full list of mountains, because the\n",
    "runtime of the simple solution is too high.</p>\n",
    "<p>Max. number of mountains for list of mountains shown above:</p>\n",
    "<p>\n",
    "<code>calc_number_of_trips( sample_mountains) = 17</code>\n",
    "</p>\n",
    "<p>\n",
    "<code>calc_number_of_trips( taiwan_mountains) = 486843309878815216122195129446333284621863531748806717140</code>\n",
    "</p>\n",
    "\n",
    "</div><!-- end of question_body -->\n"
   ]
  },
  {
   "cell_type": "markdown",
   "id": "21ff3eb2",
   "metadata": {},
   "source": [
    "\n",
    "<div class=\"question_marks\">\n",
    "<span class=\"mark_num\" style=\"text-align:right\">20</span> marks\n",
    "</div><!-- end of question_marks -->\n"
   ]
  },
  {
   "cell_type": "code",
   "execution_count": 7,
   "id": "4f4260ec",
   "metadata": {},
   "outputs": [
    {
     "name": "stdout",
     "output_type": "stream",
     "text": [
      "4\n"
     ]
    },
    {
     "ename": "TypeError",
     "evalue": "unsupported operand type(s) for -: 'tuple' and 'tuple'",
     "output_type": "error",
     "traceback": [
      "\u001b[0;31m---------------------------------------------------------------------------\u001b[0m",
      "\u001b[0;31mTypeError\u001b[0m                                 Traceback (most recent call last)",
      "Cell \u001b[0;32mIn[7], line 21\u001b[0m\n\u001b[1;32m     16\u001b[0m \u001b[38;5;28mprint\u001b[39m(calc_number_of_trips(sample_mountains))  \n\u001b[1;32m     19\u001b[0m taiwan_mountains \u001b[38;5;241m=\u001b[39m [(\u001b[38;5;124m\"\u001b[39m\u001b[38;5;124mBeikeke\u001b[39m\u001b[38;5;124m'\u001b[39m\u001b[38;5;124merbo\u001b[39m\u001b[38;5;124m\"\u001b[39m, \u001b[38;5;241m2902\u001b[39m), (\u001b[38;5;124m'\u001b[39m\u001b[38;5;124mAndongkun\u001b[39m\u001b[38;5;124m'\u001b[39m, \u001b[38;5;241m2903\u001b[39m), (\u001b[38;5;124m'\u001b[39m\u001b[38;5;124mJiabeili\u001b[39m\u001b[38;5;124m'\u001b[39m, \u001b[38;5;241m2903\u001b[39m), (\u001b[38;5;124m'\u001b[39m\u001b[38;5;124mShiwan\u001b[39m\u001b[38;5;124m'\u001b[39m, \u001b[38;5;241m2905\u001b[39m), (\u001b[38;5;124m'\u001b[39m\u001b[38;5;124mWangtai\u001b[39m\u001b[38;5;124m'\u001b[39m, \u001b[38;5;241m2907\u001b[39m), (\u001b[38;5;124m'\u001b[39m\u001b[38;5;124mJingjie\u001b[39m\u001b[38;5;124m'\u001b[39m, \u001b[38;5;241m2910\u001b[39m), (\u001b[38;5;124m'\u001b[39m\u001b[38;5;124mZhiwan\u001b[39m\u001b[38;5;124m'\u001b[39m, \u001b[38;5;241m2913\u001b[39m), (\u001b[38;5;124m'\u001b[39m\u001b[38;5;124mLuli\u001b[39m\u001b[38;5;124m'\u001b[39m, \u001b[38;5;241m2914\u001b[39m), (\u001b[38;5;124m'\u001b[39m\u001b[38;5;124mSanchi\u001b[39m\u001b[38;5;124m'\u001b[39m, \u001b[38;5;241m2919\u001b[39m), (\u001b[38;5;124m'\u001b[39m\u001b[38;5;124mXibadulan\u001b[39m\u001b[38;5;124m'\u001b[39m, \u001b[38;5;241m2920\u001b[39m), (\u001b[38;5;124m'\u001b[39m\u001b[38;5;124mApolan\u001b[39m\u001b[38;5;124m'\u001b[39m, \u001b[38;5;241m2922\u001b[39m), (\u001b[38;5;124m\"\u001b[39m\u001b[38;5;124mKeke\u001b[39m\u001b[38;5;124m'\u001b[39m\u001b[38;5;124merbo\u001b[39m\u001b[38;5;124m\"\u001b[39m, \u001b[38;5;241m2926\u001b[39m), (\u001b[38;5;124m'\u001b[39m\u001b[38;5;124mJinzi\u001b[39m\u001b[38;5;124m'\u001b[39m, \u001b[38;5;241m2928\u001b[39m), (\u001b[38;5;124m'\u001b[39m\u001b[38;5;124mMeinaitian\u001b[39m\u001b[38;5;124m'\u001b[39m, \u001b[38;5;241m2930\u001b[39m), (\u001b[38;5;124m'\u001b[39m\u001b[38;5;124mDuiguan\u001b[39m\u001b[38;5;124m'\u001b[39m, \u001b[38;5;241m2936\u001b[39m), (\u001b[38;5;124m'\u001b[39m\u001b[38;5;124mLuntaiwun\u001b[39m\u001b[38;5;124m'\u001b[39m, \u001b[38;5;241m2937\u001b[39m), (\u001b[38;5;124m'\u001b[39m\u001b[38;5;124mJilong\u001b[39m\u001b[38;5;124m'\u001b[39m, \u001b[38;5;241m2938\u001b[39m), (\u001b[38;5;124m'\u001b[39m\u001b[38;5;124mKashe\u001b[39m\u001b[38;5;124m'\u001b[39m, \u001b[38;5;241m2947\u001b[39m), (\u001b[38;5;124m'\u001b[39m\u001b[38;5;124mWumeilangbang\u001b[39m\u001b[38;5;124m'\u001b[39m, \u001b[38;5;241m2950\u001b[39m), (\u001b[38;5;124m'\u001b[39m\u001b[38;5;124mBaiguchi\u001b[39m\u001b[38;5;124m'\u001b[39m, \u001b[38;5;241m2957\u001b[39m), (\u001b[38;5;124m'\u001b[39m\u001b[38;5;124mWule\u001b[39m\u001b[38;5;124m'\u001b[39m, \u001b[38;5;241m2972\u001b[39m), (\u001b[38;5;124m'\u001b[39m\u001b[38;5;124mGuanmen\u001b[39m\u001b[38;5;124m'\u001b[39m, \u001b[38;5;241m2975\u001b[39m), (\u001b[38;5;124m'\u001b[39m\u001b[38;5;124mZhiliangjie\u001b[39m\u001b[38;5;124m'\u001b[39m, \u001b[38;5;241m2976\u001b[39m), (\u001b[38;5;124m'\u001b[39m\u001b[38;5;124mMoyemingbing\u001b[39m\u001b[38;5;124m'\u001b[39m, \u001b[38;5;241m2976\u001b[39m), (\u001b[38;5;124m'\u001b[39m\u001b[38;5;124mYibahou\u001b[39m\u001b[38;5;124m'\u001b[39m, \u001b[38;5;241m2979\u001b[39m), (\u001b[38;5;124m'\u001b[39m\u001b[38;5;124mHeiyan\u001b[39m\u001b[38;5;124m'\u001b[39m, \u001b[38;5;241m2980\u001b[39m), (\u001b[38;5;124m'\u001b[39m\u001b[38;5;124mMudan\u001b[39m\u001b[38;5;124m'\u001b[39m, \u001b[38;5;241m2980\u001b[39m), (\u001b[38;5;124m'\u001b[39m\u001b[38;5;124mNanmayang\u001b[39m\u001b[38;5;124m'\u001b[39m, \u001b[38;5;241m2980\u001b[39m), (\u001b[38;5;124m'\u001b[39m\u001b[38;5;124mXiaoshigong\u001b[39m\u001b[38;5;124m'\u001b[39m, \u001b[38;5;241m2980\u001b[39m), (\u001b[38;5;124m'\u001b[39m\u001b[38;5;124mLu\u001b[39m\u001b[38;5;124m'\u001b[39m, \u001b[38;5;241m2981\u001b[39m), (\u001b[38;5;124m'\u001b[39m\u001b[38;5;124mChayan\u001b[39m\u001b[38;5;124m'\u001b[39m, \u001b[38;5;241m2987\u001b[39m), (\u001b[38;5;124m'\u001b[39m\u001b[38;5;124mJiuxian\u001b[39m\u001b[38;5;124m'\u001b[39m, \u001b[38;5;241m2987\u001b[39m), (\u001b[38;5;124m'\u001b[39m\u001b[38;5;124mWufanaiwei\u001b[39m\u001b[38;5;124m'\u001b[39m, \u001b[38;5;241m2987\u001b[39m), (\u001b[38;5;124m'\u001b[39m\u001b[38;5;124mSaike\u001b[39m\u001b[38;5;124m'\u001b[39m, \u001b[38;5;241m2989\u001b[39m), (\u001b[38;5;124m'\u001b[39m\u001b[38;5;124mXiaoxue\u001b[39m\u001b[38;5;124m'\u001b[39m, \u001b[38;5;241m2997\u001b[39m), (\u001b[38;5;124m'\u001b[39m\u001b[38;5;124mShangzhi\u001b[39m\u001b[38;5;124m'\u001b[39m, \u001b[38;5;241m2997\u001b[39m), (\u001b[38;5;124m'\u001b[39m\u001b[38;5;124mLiushun\u001b[39m\u001b[38;5;124m'\u001b[39m, \u001b[38;5;241m3000\u001b[39m), (\u001b[38;5;124m'\u001b[39m\u001b[38;5;124mXiazhizhu\u001b[39m\u001b[38;5;124m'\u001b[39m, \u001b[38;5;241m3000\u001b[39m), (\u001b[38;5;124m'\u001b[39m\u001b[38;5;124mJinzi\u001b[39m\u001b[38;5;124m'\u001b[39m, \u001b[38;5;241m3005\u001b[39m), (\u001b[38;5;124m'\u001b[39m\u001b[38;5;124mYunshui\u001b[39m\u001b[38;5;124m'\u001b[39m, \u001b[38;5;241m3013\u001b[39m), (\u001b[38;5;124m'\u001b[39m\u001b[38;5;124mDalishi\u001b[39m\u001b[38;5;124m'\u001b[39m, \u001b[38;5;241m3014\u001b[39m), (\u001b[38;5;124m'\u001b[39m\u001b[38;5;124mBulakesang\u001b[39m\u001b[38;5;124m'\u001b[39m, \u001b[38;5;241m3020\u001b[39m), (\u001b[38;5;124m'\u001b[39m\u001b[38;5;124mGuanmen\u001b[39m\u001b[38;5;124m'\u001b[39m, \u001b[38;5;241m3022\u001b[39m), (\u001b[38;5;124m'\u001b[39m\u001b[38;5;124mMaxibaxiu\u001b[39m\u001b[38;5;124m'\u001b[39m, \u001b[38;5;241m3022\u001b[39m), (\u001b[38;5;124m'\u001b[39m\u001b[38;5;124mWukedongke\u001b[39m\u001b[38;5;124m'\u001b[39m, \u001b[38;5;241m3022\u001b[39m), (\u001b[38;5;124m'\u001b[39m\u001b[38;5;124mBashawan\u001b[39m\u001b[38;5;124m'\u001b[39m, \u001b[38;5;241m3029\u001b[39m), (\u001b[38;5;124m'\u001b[39m\u001b[38;5;124mDashigong\u001b[39m\u001b[38;5;124m'\u001b[39m, \u001b[38;5;241m3030\u001b[39m), (\u001b[38;5;124m'\u001b[39m\u001b[38;5;124mWumeilangpang\u001b[39m\u001b[38;5;124m'\u001b[39m, \u001b[38;5;241m3031\u001b[39m), (\u001b[38;5;124m'\u001b[39m\u001b[38;5;124mYangtou\u001b[39m\u001b[38;5;124m'\u001b[39m, \u001b[38;5;241m3035\u001b[39m), (\u001b[38;5;124m'\u001b[39m\u001b[38;5;124mAbala\u001b[39m\u001b[38;5;124m'\u001b[39m, \u001b[38;5;241m3044\u001b[39m), (\u001b[38;5;124m'\u001b[39m\u001b[38;5;124mYusui\u001b[39m\u001b[38;5;124m'\u001b[39m, \u001b[38;5;241m3045\u001b[39m), (\u001b[38;5;124m'\u001b[39m\u001b[38;5;124mQingshui\u001b[39m\u001b[38;5;124m'\u001b[39m, \u001b[38;5;241m3048\u001b[39m), (\u001b[38;5;124m'\u001b[39m\u001b[38;5;124mShuangzi\u001b[39m\u001b[38;5;124m'\u001b[39m, \u001b[38;5;241m3049\u001b[39m), (\u001b[38;5;124m'\u001b[39m\u001b[38;5;124mLinzhuan\u001b[39m\u001b[38;5;124m'\u001b[39m, \u001b[38;5;241m3053\u001b[39m), (\u001b[38;5;124m'\u001b[39m\u001b[38;5;124mPuluoxikuo\u001b[39m\u001b[38;5;124m'\u001b[39m, \u001b[38;5;241m3055\u001b[39m), (\u001b[38;5;124m'\u001b[39m\u001b[38;5;124mGuangtou\u001b[39m\u001b[38;5;124m'\u001b[39m, \u001b[38;5;241m3060\u001b[39m), (\u001b[38;5;124m'\u001b[39m\u001b[38;5;124mAwangnalai\u001b[39m\u001b[38;5;124m'\u001b[39m, \u001b[38;5;241m3061\u001b[39m), (\u001b[38;5;124m'\u001b[39m\u001b[38;5;124mAndongjun\u001b[39m\u001b[38;5;124m'\u001b[39m, \u001b[38;5;241m3068\u001b[39m), (\u001b[38;5;124m'\u001b[39m\u001b[38;5;124mLiwu\u001b[39m\u001b[38;5;124m'\u001b[39m, \u001b[38;5;241m3070\u001b[39m), (\u001b[38;5;124m'\u001b[39m\u001b[38;5;124mTafen\u001b[39m\u001b[38;5;124m'\u001b[39m, \u001b[38;5;241m3070\u001b[39m), (\u001b[38;5;124m'\u001b[39m\u001b[38;5;124mKehan\u001b[39m\u001b[38;5;124m'\u001b[39m, \u001b[38;5;241m3080\u001b[39m), (\u001b[38;5;124m'\u001b[39m\u001b[38;5;124mXiluan\u001b[39m\u001b[38;5;124m'\u001b[39m, \u001b[38;5;241m3081\u001b[39m), (\u001b[38;5;124m'\u001b[39m\u001b[38;5;124mZhimahan\u001b[39m\u001b[38;5;124m'\u001b[39m, \u001b[38;5;241m3085\u001b[39m), (\u001b[38;5;124m'\u001b[39m\u001b[38;5;124mBeidawu\u001b[39m\u001b[38;5;124m'\u001b[39m, \u001b[38;5;241m3092\u001b[39m), (\u001b[38;5;124m\"\u001b[39m\u001b[38;5;124mKahe\u001b[39m\u001b[38;5;124m'\u001b[39m\u001b[38;5;124mer\u001b[39m\u001b[38;5;124m\"\u001b[39m, \u001b[38;5;241m3100\u001b[39m), (\u001b[38;5;124m'\u001b[39m\u001b[38;5;124mPatuolu\u001b[39m\u001b[38;5;124m'\u001b[39m, \u001b[38;5;241m3101\u001b[39m), (\u001b[38;5;124m'\u001b[39m\u001b[38;5;124mBaishi\u001b[39m\u001b[38;5;124m'\u001b[39m, \u001b[38;5;241m3110\u001b[39m), (\u001b[38;5;124m'\u001b[39m\u001b[38;5;124mRendai\u001b[39m\u001b[38;5;124m'\u001b[39m, \u001b[38;5;241m3110\u001b[39m), (\u001b[38;5;124m'\u001b[39m\u001b[38;5;124mJiali\u001b[39m\u001b[38;5;124m'\u001b[39m, \u001b[38;5;241m3112\u001b[39m), (\u001b[38;5;124m'\u001b[39m\u001b[38;5;124mKuhanuoxin\u001b[39m\u001b[38;5;124m'\u001b[39m, \u001b[38;5;241m3115\u001b[39m), (\u001b[38;5;124m'\u001b[39m\u001b[38;5;124mXinxian\u001b[39m\u001b[38;5;124m'\u001b[39m, \u001b[38;5;241m3120\u001b[39m), (\u001b[38;5;124m'\u001b[39m\u001b[38;5;124mKelaye\u001b[39m\u001b[38;5;124m'\u001b[39m, \u001b[38;5;241m3133\u001b[39m), (\u001b[38;5;124m'\u001b[39m\u001b[38;5;124mZhimo\u001b[39m\u001b[38;5;124m'\u001b[39m, \u001b[38;5;241m3140\u001b[39m), (\u001b[38;5;124m'\u001b[39m\u001b[38;5;124mShenmazhen\u001b[39m\u001b[38;5;124m'\u001b[39m, \u001b[38;5;241m3141\u001b[39m), (\u001b[38;5;124m'\u001b[39m\u001b[38;5;124mXihehuan\u001b[39m\u001b[38;5;124m'\u001b[39m, \u001b[38;5;241m3145\u001b[39m), (\u001b[38;5;124m'\u001b[39m\u001b[38;5;124mJiuhua\u001b[39m\u001b[38;5;124m'\u001b[39m, \u001b[38;5;241m3155\u001b[39m), (\u001b[38;5;124m'\u001b[39m\u001b[38;5;124mGanshu\u001b[39m\u001b[38;5;124m'\u001b[39m, \u001b[38;5;241m3158\u001b[39m), (\u001b[38;5;124m'\u001b[39m\u001b[38;5;124mLianli\u001b[39m\u001b[38;5;124m'\u001b[39m, \u001b[38;5;241m3161\u001b[39m), (\u001b[38;5;124m'\u001b[39m\u001b[38;5;124mBatuonuofu\u001b[39m\u001b[38;5;124m'\u001b[39m, \u001b[38;5;241m3165\u001b[39m), (\u001b[38;5;124m'\u001b[39m\u001b[38;5;124mBeimian\u001b[39m\u001b[38;5;124m'\u001b[39m, \u001b[38;5;241m3167\u001b[39m), (\u001b[38;5;124m'\u001b[39m\u001b[38;5;124mShuan\u001b[39m\u001b[38;5;124m'\u001b[39m, \u001b[38;5;241m3168\u001b[39m), (\u001b[38;5;124m'\u001b[39m\u001b[38;5;124mZhongxue\u001b[39m\u001b[38;5;124m'\u001b[39m, \u001b[38;5;241m3173\u001b[39m), (\u001b[38;5;124m'\u001b[39m\u001b[38;5;124mHainuonan\u001b[39m\u001b[38;5;124m'\u001b[39m, \u001b[38;5;241m3175\u001b[39m), (\u001b[38;5;124m'\u001b[39m\u001b[38;5;124mLulilaluo\u001b[39m\u001b[38;5;124m'\u001b[39m, \u001b[38;5;241m3175\u001b[39m), (\u001b[38;5;124m'\u001b[39m\u001b[38;5;124mGuanshanling\u001b[39m\u001b[38;5;124m'\u001b[39m, \u001b[38;5;241m3176\u001b[39m), (\u001b[38;5;124m'\u001b[39m\u001b[38;5;124mDafenjian\u001b[39m\u001b[38;5;124m'\u001b[39m, \u001b[38;5;241m3190\u001b[39m), (\u001b[38;5;124m\"\u001b[39m\u001b[38;5;124mYeba\u001b[39m\u001b[38;5;124m'\u001b[39m\u001b[38;5;124mao\u001b[39m\u001b[38;5;124m\"\u001b[39m, \u001b[38;5;241m3192\u001b[39m), (\u001b[38;5;124m'\u001b[39m\u001b[38;5;124mBeibilu\u001b[39m\u001b[38;5;124m'\u001b[39m, \u001b[38;5;241m3193\u001b[39m), (\u001b[38;5;124m'\u001b[39m\u001b[38;5;124mTailunaxi\u001b[39m\u001b[38;5;124m'\u001b[39m, \u001b[38;5;241m3200\u001b[39m), (\u001b[38;5;124m'\u001b[39m\u001b[38;5;124mYoupolan\u001b[39m\u001b[38;5;124m'\u001b[39m, \u001b[38;5;241m3208\u001b[39m), (\u001b[38;5;124m'\u001b[39m\u001b[38;5;124mHongyai\u001b[39m\u001b[38;5;124m'\u001b[39m, \u001b[38;5;241m3210\u001b[39m), (\u001b[38;5;124m'\u001b[39m\u001b[38;5;124mShilun\u001b[39m\u001b[38;5;124m'\u001b[39m, \u001b[38;5;241m3210\u001b[39m), (\u001b[38;5;124m'\u001b[39m\u001b[38;5;124mMabishan\u001b[39m\u001b[38;5;124m'\u001b[39m, \u001b[38;5;241m3211\u001b[39m), (\u001b[38;5;124m'\u001b[39m\u001b[38;5;124mHehuanjian\u001b[39m\u001b[38;5;124m'\u001b[39m, \u001b[38;5;241m3217\u001b[39m), (\u001b[38;5;124m'\u001b[39m\u001b[38;5;124mTaguan\u001b[39m\u001b[38;5;124m'\u001b[39m, \u001b[38;5;241m3222\u001b[39m), (\u001b[38;5;124m'\u001b[39m\u001b[38;5;124mKonglongjian\u001b[39m\u001b[38;5;124m'\u001b[39m, \u001b[38;5;241m3230\u001b[39m), (\u001b[38;5;124m'\u001b[39m\u001b[38;5;124mWushuang\u001b[39m\u001b[38;5;124m'\u001b[39m, \u001b[38;5;241m3231\u001b[39m), (\u001b[38;5;124m'\u001b[39m\u001b[38;5;124mDanan\u001b[39m\u001b[38;5;124m'\u001b[39m, \u001b[38;5;241m3239\u001b[39m), (\u001b[38;5;124m'\u001b[39m\u001b[38;5;124mMu\u001b[39m\u001b[38;5;124m'\u001b[39m, \u001b[38;5;241m3241\u001b[39m), (\u001b[38;5;124m'\u001b[39m\u001b[38;5;124mWangxiang\u001b[39m\u001b[38;5;124m'\u001b[39m, \u001b[38;5;241m3241\u001b[39m), (\u001b[38;5;124m'\u001b[39m\u001b[38;5;124mYixiqingmazhi\u001b[39m\u001b[38;5;124m'\u001b[39m, \u001b[38;5;241m3245\u001b[39m), (\u001b[38;5;124m'\u001b[39m\u001b[38;5;124mXiaoguan\u001b[39m\u001b[38;5;124m'\u001b[39m, \u001b[38;5;241m3249\u001b[39m), (\u001b[38;5;124m'\u001b[39m\u001b[38;5;124mMalubalarang\u001b[39m\u001b[38;5;124m'\u001b[39m, \u001b[38;5;241m3250\u001b[39m), (\u001b[38;5;124m'\u001b[39m\u001b[38;5;124mPingfeng\u001b[39m\u001b[38;5;124m'\u001b[39m, \u001b[38;5;241m3250\u001b[39m), (\u001b[38;5;124m'\u001b[39m\u001b[38;5;124mShangzhizhu\u001b[39m\u001b[38;5;124m'\u001b[39m, \u001b[38;5;241m3250\u001b[39m), (\u001b[38;5;124m'\u001b[39m\u001b[38;5;124mJian\u001b[39m\u001b[38;5;124m'\u001b[39m, \u001b[38;5;241m3253\u001b[39m), (\u001b[38;5;124m'\u001b[39m\u001b[38;5;124mWandong\u001b[39m\u001b[38;5;124m'\u001b[39m, \u001b[38;5;241m3258\u001b[39m), (\u001b[38;5;124m'\u001b[39m\u001b[38;5;124mYingzizui\u001b[39m\u001b[38;5;124m'\u001b[39m, \u001b[38;5;241m3262\u001b[39m), (\u001b[38;5;124m'\u001b[39m\u001b[38;5;124mJun\u001b[39m\u001b[38;5;124m'\u001b[39m, \u001b[38;5;241m3263\u001b[39m), (\u001b[38;5;124m'\u001b[39m\u001b[38;5;124mNeiling′er\u001b[39m\u001b[38;5;124m'\u001b[39m, \u001b[38;5;241m3270\u001b[39m), (\u001b[38;5;124m'\u001b[39m\u001b[38;5;124mShimen\u001b[39m\u001b[38;5;124m'\u001b[39m, \u001b[38;5;241m3270\u001b[39m), (\u001b[38;5;124m'\u001b[39m\u001b[38;5;124mLingming\u001b[39m\u001b[38;5;124m'\u001b[39m, \u001b[38;5;241m3272\u001b[39m), (\u001b[38;5;124m'\u001b[39m\u001b[38;5;124mXitou\u001b[39m\u001b[38;5;124m'\u001b[39m, \u001b[38;5;241m3272\u001b[39m), (\u001b[38;5;124m'\u001b[39m\u001b[38;5;124mKexipanan\u001b[39m\u001b[38;5;124m'\u001b[39m, \u001b[38;5;241m3276\u001b[39m), (\u001b[38;5;124m'\u001b[39m\u001b[38;5;124mLulu\u001b[39m\u001b[38;5;124m'\u001b[39m, \u001b[38;5;241m3279\u001b[39m), (\u001b[38;5;124m'\u001b[39m\u001b[38;5;124mJiannanjian\u001b[39m\u001b[38;5;124m'\u001b[39m, \u001b[38;5;241m3280\u001b[39m), (\u001b[38;5;124m'\u001b[39m\u001b[38;5;124mTaroko\u001b[39m\u001b[38;5;124m'\u001b[39m, \u001b[38;5;241m3283\u001b[39m), (\u001b[38;5;124m'\u001b[39m\u001b[38;5;124mGanzhuowan\u001b[39m\u001b[38;5;124m'\u001b[39m, \u001b[38;5;241m3284\u001b[39m), (\u001b[38;5;124m'\u001b[39m\u001b[38;5;124mBufuqihan\u001b[39m\u001b[38;5;124m'\u001b[39m, \u001b[38;5;241m3290\u001b[39m), (\u001b[38;5;124m'\u001b[39m\u001b[38;5;124mDuanlengdong\u001b[39m\u001b[38;5;124m'\u001b[39m, \u001b[38;5;241m3290\u001b[39m), (\u001b[38;5;124m'\u001b[39m\u001b[38;5;124mJu\u001b[39m\u001b[38;5;124m'\u001b[39m, \u001b[38;5;241m3290\u001b[39m), (\u001b[38;5;124m'\u001b[39m\u001b[38;5;124mMobaolai\u001b[39m\u001b[38;5;124m'\u001b[39m, \u001b[38;5;241m3290\u001b[39m), (\u001b[38;5;124m'\u001b[39m\u001b[38;5;124mBeinan\u001b[39m\u001b[38;5;124m'\u001b[39m, \u001b[38;5;241m3295\u001b[39m), (\u001b[38;5;124m'\u001b[39m\u001b[38;5;124mYize\u001b[39m\u001b[38;5;124m'\u001b[39m, \u001b[38;5;241m3297\u001b[39m), (\u001b[38;5;124m'\u001b[39m\u001b[38;5;124mChiyou\u001b[39m\u001b[38;5;124m'\u001b[39m, \u001b[38;5;241m3303\u001b[39m), (\u001b[38;5;124m'\u001b[39m\u001b[38;5;124mWangyai\u001b[39m\u001b[38;5;124m'\u001b[39m, \u001b[38;5;241m3307\u001b[39m), (\u001b[38;5;124m'\u001b[39m\u001b[38;5;124mHuoshi\u001b[39m\u001b[38;5;124m'\u001b[39m, \u001b[38;5;241m3310\u001b[39m), (\u001b[38;5;124m'\u001b[39m\u001b[38;5;124mDuanlengxi\u001b[39m\u001b[38;5;124m'\u001b[39m, \u001b[38;5;241m3313\u001b[39m), (\u001b[38;5;124m'\u001b[39m\u001b[38;5;124mJiayang\u001b[39m\u001b[38;5;124m'\u001b[39m, \u001b[38;5;241m3314\u001b[39m), (\u001b[38;5;124m'\u001b[39m\u001b[38;5;124mTiangongbaolei\u001b[39m\u001b[38;5;124m'\u001b[39m, \u001b[38;5;241m3315\u001b[39m), (\u001b[38;5;124m'\u001b[39m\u001b[38;5;124mTao\u001b[39m\u001b[38;5;124m'\u001b[39m, \u001b[38;5;241m3325\u001b[39m), (\u001b[38;5;124m'\u001b[39m\u001b[38;5;124mManaike\u001b[39m\u001b[38;5;124m'\u001b[39m, \u001b[38;5;241m3326\u001b[39m), (\u001b[38;5;124m'\u001b[39m\u001b[38;5;124mXinkang\u001b[39m\u001b[38;5;124m'\u001b[39m, \u001b[38;5;241m3331\u001b[39m), (\u001b[38;5;124m'\u001b[39m\u001b[38;5;124mBatongguan\u001b[39m\u001b[38;5;124m'\u001b[39m, \u001b[38;5;241m3335\u001b[39m), (\u001b[38;5;124m'\u001b[39m\u001b[38;5;124mPanshi\u001b[39m\u001b[38;5;124m'\u001b[39m, \u001b[38;5;241m3335\u001b[39m), (\u001b[38;5;124m'\u001b[39m\u001b[38;5;124mBugan\u001b[39m\u001b[38;5;124m'\u001b[39m, \u001b[38;5;241m3339\u001b[39m), (\u001b[38;5;124m'\u001b[39m\u001b[38;5;124mDan\u001b[39m\u001b[38;5;124m'\u001b[39m, \u001b[38;5;241m3340\u001b[39m), (\u001b[38;5;124m'\u001b[39m\u001b[38;5;124mZhijiayang\u001b[39m\u001b[38;5;124m'\u001b[39m, \u001b[38;5;241m3340\u001b[39m), (\u001b[38;5;124m'\u001b[39m\u001b[38;5;124mLimen\u001b[39m\u001b[38;5;124m'\u001b[39m, \u001b[38;5;241m3340\u001b[39m), (\u001b[38;5;124m'\u001b[39m\u001b[38;5;124mBaigu\u001b[39m\u001b[38;5;124m'\u001b[39m, \u001b[38;5;241m3341\u001b[39m), (\u001b[38;5;124m'\u001b[39m\u001b[38;5;124mBadufu\u001b[39m\u001b[38;5;124m'\u001b[39m, \u001b[38;5;241m3345\u001b[39m), (\u001b[38;5;124m'\u001b[39m\u001b[38;5;124mHuangdangkuo\u001b[39m\u001b[38;5;124m'\u001b[39m, \u001b[38;5;241m3348\u001b[39m), (\u001b[38;5;124m'\u001b[39m\u001b[38;5;124mNenggao\u001b[39m\u001b[38;5;124m'\u001b[39m, \u001b[38;5;241m3349\u001b[39m), (\u001b[38;5;124m'\u001b[39m\u001b[38;5;124mDongbajian\u001b[39m\u001b[38;5;124m'\u001b[39m, \u001b[38;5;241m3360\u001b[39m), (\u001b[38;5;124m'\u001b[39m\u001b[38;5;124mNanshuangtou\u001b[39m\u001b[38;5;124m'\u001b[39m, \u001b[38;5;241m3360\u001b[39m), (\u001b[38;5;124m'\u001b[39m\u001b[38;5;124mZhuoshe\u001b[39m\u001b[38;5;124m'\u001b[39m, \u001b[38;5;241m3369\u001b[39m), (\u001b[38;5;124m'\u001b[39m\u001b[38;5;124mBilu\u001b[39m\u001b[38;5;124m'\u001b[39m, \u001b[38;5;241m3371\u001b[39m), (\u001b[38;5;124m'\u001b[39m\u001b[38;5;124mGongshui\u001b[39m\u001b[38;5;124m'\u001b[39m, \u001b[38;5;241m3374\u001b[39m), (\u001b[38;5;124m'\u001b[39m\u001b[38;5;124mGuimenguan\u001b[39m\u001b[38;5;124m'\u001b[39m, \u001b[38;5;241m3380\u001b[39m), (\u001b[38;5;124m'\u001b[39m\u001b[38;5;124mKaluolou\u001b[39m\u001b[38;5;124m'\u001b[39m, \u001b[38;5;241m3380\u001b[39m), (\u001b[38;5;124m'\u001b[39m\u001b[38;5;124mNadashuiku\u001b[39m\u001b[38;5;124m'\u001b[39m, \u001b[38;5;241m3381\u001b[39m), (\u001b[38;5;124m'\u001b[39m\u001b[38;5;124mQilaili\u001b[39m\u001b[38;5;124m'\u001b[39m, \u001b[38;5;241m3383\u001b[39m), (\u001b[38;5;124m'\u001b[39m\u001b[38;5;124mNanyu\u001b[39m\u001b[38;5;124m'\u001b[39m, \u001b[38;5;241m3383\u001b[39m), (\u001b[38;5;124m'\u001b[39m\u001b[38;5;124mBuchenxilun\u001b[39m\u001b[38;5;124m'\u001b[39m, \u001b[38;5;241m3384\u001b[39m), (\u001b[38;5;124m'\u001b[39m\u001b[38;5;124mZhongbajian\u001b[39m\u001b[38;5;124m'\u001b[39m, \u001b[38;5;241m3392\u001b[39m), (\u001b[38;5;124m'\u001b[39m\u001b[38;5;124mBashalayun\u001b[39m\u001b[38;5;124m'\u001b[39m, \u001b[38;5;241m3402\u001b[39m), (\u001b[38;5;124m'\u001b[39m\u001b[38;5;124mTiannankelang\u001b[39m\u001b[38;5;124m'\u001b[39m, \u001b[38;5;241m3404\u001b[39m), (\u001b[38;5;124m'\u001b[39m\u001b[38;5;124mFuwan\u001b[39m\u001b[38;5;124m'\u001b[39m, \u001b[38;5;241m3417\u001b[39m), (\u001b[38;5;124m'\u001b[39m\u001b[38;5;124mXiaobajian\u001b[39m\u001b[38;5;124m'\u001b[39m, \u001b[38;5;241m3418\u001b[39m), (\u001b[38;5;124m'\u001b[39m\u001b[38;5;124mHehuan\u001b[39m\u001b[38;5;124m'\u001b[39m, \u001b[38;5;241m3422\u001b[39m), (\u001b[38;5;124m'\u001b[39m\u001b[38;5;124mQilaichi\u001b[39m\u001b[38;5;124m'\u001b[39m, \u001b[38;5;241m3430\u001b[39m), (\u001b[38;5;124m'\u001b[39m\u001b[38;5;124mJupen\u001b[39m\u001b[38;5;124m'\u001b[39m, \u001b[38;5;241m3432\u001b[39m), (\u001b[38;5;124m'\u001b[39m\u001b[38;5;124mZhu\u001b[39m\u001b[38;5;124m'\u001b[39m, \u001b[38;5;241m3437\u001b[39m), (\u001b[38;5;124m'\u001b[39m\u001b[38;5;124mBuxiulan\u001b[39m\u001b[38;5;124m'\u001b[39m, \u001b[38;5;241m3438\u001b[39m), (\u001b[38;5;124m'\u001b[39m\u001b[38;5;124mPipida\u001b[39m\u001b[38;5;124m'\u001b[39m, \u001b[38;5;241m3440\u001b[39m), (\u001b[38;5;124m'\u001b[39m\u001b[38;5;124mMaxi\u001b[39m\u001b[38;5;124m'\u001b[39m, \u001b[38;5;241m3443\u001b[39m), (\u001b[38;5;124m'\u001b[39m\u001b[38;5;124mBenxiang\u001b[39m\u001b[38;5;124m'\u001b[39m, \u001b[38;5;241m3447\u001b[39m), (\u001b[38;5;124m'\u001b[39m\u001b[38;5;124mBaba\u001b[39m\u001b[38;5;124m'\u001b[39m, \u001b[38;5;241m3449\u001b[39m), (\u001b[38;5;124m'\u001b[39m\u001b[38;5;124mWuming\u001b[39m\u001b[38;5;124m'\u001b[39m, \u001b[38;5;241m3451\u001b[39m), (\u001b[38;5;124m'\u001b[39m\u001b[38;5;124mDongluan\u001b[39m\u001b[38;5;124m'\u001b[39m, \u001b[38;5;241m3468\u001b[39m), (\u001b[38;5;124m'\u001b[39m\u001b[38;5;124mJundong\u001b[39m\u001b[38;5;124m'\u001b[39m, \u001b[38;5;241m3477\u001b[39m), (\u001b[38;5;124m'\u001b[39m\u001b[38;5;124mMaliyawenlu\u001b[39m\u001b[38;5;124m'\u001b[39m, \u001b[38;5;241m3483\u001b[39m), (\u001b[38;5;124m'\u001b[39m\u001b[38;5;124mDabajian\u001b[39m\u001b[38;5;124m'\u001b[39m, \u001b[38;5;241m3492\u001b[39m), (\u001b[38;5;124m'\u001b[39m\u001b[38;5;124mSancha\u001b[39m\u001b[38;5;124m'\u001b[39m, \u001b[38;5;241m3496\u001b[39m), (\u001b[38;5;124m'\u001b[39m\u001b[38;5;124mTaosai\u001b[39m\u001b[38;5;124m'\u001b[39m, \u001b[38;5;241m3500\u001b[39m), (\u001b[38;5;124m'\u001b[39m\u001b[38;5;124mTouying\u001b[39m\u001b[38;5;124m'\u001b[39m, \u001b[38;5;241m3510\u001b[39m), (\u001b[38;5;124m'\u001b[39m\u001b[38;5;124mWudapei\u001b[39m\u001b[38;5;124m'\u001b[39m, \u001b[38;5;241m3512\u001b[39m), (\u001b[38;5;124m'\u001b[39m\u001b[38;5;124mSumida\u001b[39m\u001b[38;5;124m'\u001b[39m, \u001b[38;5;241m3517\u001b[39m), (\u001b[38;5;124m'\u001b[39m\u001b[38;5;124mQijun\u001b[39m\u001b[38;5;124m'\u001b[39m, \u001b[38;5;241m3519\u001b[39m), (\u001b[38;5;124m\"\u001b[39m\u001b[38;5;124mKelekele\u001b[39m\u001b[38;5;124m'\u001b[39m\u001b[38;5;124man\u001b[39m\u001b[38;5;124m\"\u001b[39m, \u001b[38;5;241m3520\u001b[39m), (\u001b[38;5;124m'\u001b[39m\u001b[38;5;124mPintian\u001b[39m\u001b[38;5;124m'\u001b[39m, \u001b[38;5;241m3524\u001b[39m), (\u001b[38;5;124m'\u001b[39m\u001b[38;5;124mDaxue\u001b[39m\u001b[38;5;124m'\u001b[39m, \u001b[38;5;241m3530\u001b[39m), (\u001b[38;5;124m'\u001b[39m\u001b[38;5;124mNanhubei\u001b[39m\u001b[38;5;124m'\u001b[39m, \u001b[38;5;241m3536\u001b[39m), (\u001b[38;5;124m'\u001b[39m\u001b[38;5;124mMalijianan\u001b[39m\u001b[38;5;124m'\u001b[39m, \u001b[38;5;241m3546\u001b[39m), (\u001b[38;5;124m'\u001b[39m\u001b[38;5;124mCloud\u001b[39m\u001b[38;5;124m'\u001b[39m, \u001b[38;5;241m3564\u001b[39m), (\u001b[38;5;124m'\u001b[39m\u001b[38;5;124mDajian\u001b[39m\u001b[38;5;124m'\u001b[39m, \u001b[38;5;241m3594\u001b[39m), (\u001b[38;5;124m'\u001b[39m\u001b[38;5;124mXiangyang\u001b[39m\u001b[38;5;124m'\u001b[39m, \u001b[38;5;241m3603\u001b[39m), (\u001b[38;5;124m'\u001b[39m\u001b[38;5;124mQilai\u001b[39m\u001b[38;5;124m'\u001b[39m, \u001b[38;5;241m3608\u001b[39m), (\u001b[38;5;124m'\u001b[39m\u001b[38;5;124mCuichisancha\u001b[39m\u001b[38;5;124m'\u001b[39m, \u001b[38;5;241m3610\u001b[39m), (\u001b[38;5;124m'\u001b[39m\u001b[38;5;124mDongjun\u001b[39m\u001b[38;5;124m'\u001b[39m, \u001b[38;5;241m3619\u001b[39m), (\u001b[38;5;124m'\u001b[39m\u001b[38;5;124mMutelebu\u001b[39m\u001b[38;5;124m'\u001b[39m, \u001b[38;5;241m3626\u001b[39m), (\u001b[38;5;124m'\u001b[39m\u001b[38;5;124mDashuiku\u001b[39m\u001b[38;5;124m'\u001b[39m, \u001b[38;5;241m3630\u001b[39m), (\u001b[38;5;124m'\u001b[39m\u001b[38;5;124mMatelan\u001b[39m\u001b[38;5;124m'\u001b[39m, \u001b[38;5;241m3660\u001b[39m), (\u001b[38;5;124m'\u001b[39m\u001b[38;5;124mGuan\u001b[39m\u001b[38;5;124m'\u001b[39m, \u001b[38;5;241m3668\u001b[39m), (\u001b[38;5;124m'\u001b[39m\u001b[38;5;124mCentral\u001b[39m\u001b[38;5;124m'\u001b[39m, \u001b[38;5;241m3705\u001b[39m), (\u001b[38;5;124m'\u001b[39m\u001b[38;5;124mDongxiaonan\u001b[39m\u001b[38;5;124m'\u001b[39m, \u001b[38;5;241m3711\u001b[39m), (\u001b[38;5;124m'\u001b[39m\u001b[38;5;124mKailantekun\u001b[39m\u001b[38;5;124m'\u001b[39m, \u001b[38;5;241m3730\u001b[39m), (\u001b[38;5;124m'\u001b[39m\u001b[38;5;124mNanhu\u001b[39m\u001b[38;5;124m'\u001b[39m, \u001b[38;5;241m3742\u001b[39m), (\u001b[38;5;124m'\u001b[39m\u001b[38;5;124mMabolasi\u001b[39m\u001b[38;5;124m'\u001b[39m, \u001b[38;5;241m3765\u001b[39m), (\u001b[38;5;124m'\u001b[39m\u001b[38;5;124mXiuguluan\u001b[39m\u001b[38;5;124m'\u001b[39m, \u001b[38;5;241m3825\u001b[39m), (\u001b[38;5;124m'\u001b[39m\u001b[38;5;124mXueshan\u001b[39m\u001b[38;5;124m'\u001b[39m, \u001b[38;5;241m3886\u001b[39m), (\u001b[38;5;124m'\u001b[39m\u001b[38;5;124mYushan\u001b[39m\u001b[38;5;124m'\u001b[39m, \u001b[38;5;241m3952\u001b[39m)]\n\u001b[0;32m---> 21\u001b[0m \u001b[38;5;28mprint\u001b[39m(\u001b[43mcalc_number_of_trips\u001b[49m\u001b[43m(\u001b[49m\u001b[43mtaiwan_mountains\u001b[49m\u001b[43m)\u001b[49m)\n",
      "Cell \u001b[0;32mIn[7], line 8\u001b[0m, in \u001b[0;36mcalc_number_of_trips\u001b[0;34m(mountains)\u001b[0m\n\u001b[1;32m      6\u001b[0m max_trips \u001b[38;5;241m=\u001b[39m \u001b[38;5;241m1\u001b[39m  \n\u001b[1;32m      7\u001b[0m \u001b[38;5;28;01mfor\u001b[39;00m j \u001b[38;5;129;01min\u001b[39;00m \u001b[38;5;28mrange\u001b[39m(i\u001b[38;5;241m+\u001b[39m\u001b[38;5;241m1\u001b[39m, n):\n\u001b[0;32m----> 8\u001b[0m     \u001b[38;5;28;01mif\u001b[39;00m \u001b[38;5;241m0\u001b[39m \u001b[38;5;241m<\u001b[39m \u001b[43mmountains\u001b[49m\u001b[43m[\u001b[49m\u001b[43mj\u001b[49m\u001b[43m]\u001b[49m\u001b[43m \u001b[49m\u001b[38;5;241;43m-\u001b[39;49m\u001b[43m \u001b[49m\u001b[43mmountains\u001b[49m\u001b[43m[\u001b[49m\u001b[43mi\u001b[49m\u001b[43m]\u001b[49m \u001b[38;5;241m<\u001b[39m\u001b[38;5;241m=\u001b[39m \u001b[38;5;241m200\u001b[39m:\n\u001b[1;32m      9\u001b[0m         max_trips \u001b[38;5;241m=\u001b[39m \u001b[38;5;28mmax\u001b[39m(max_trips, dp[j] \u001b[38;5;241m+\u001b[39m \u001b[38;5;241m1\u001b[39m)\n\u001b[1;32m     10\u001b[0m dp[i] \u001b[38;5;241m=\u001b[39m max_trips\n",
      "\u001b[0;31mTypeError\u001b[0m: unsupported operand type(s) for -: 'tuple' and 'tuple'"
     ]
    }
   ],
   "source": [
    "\n",
    "def calc_number_of_trips(mountains):\n",
    "    n = len(mountains)\n",
    "    dp = [0] * n\n",
    "    \n",
    "    for i in range(n-1, -1, -1):\n",
    "        max_trips = 1  \n",
    "        for j in range(i+1, n):\n",
    "            if 0 < mountains[j] - mountains[i] <= 200:\n",
    "                max_trips = max(max_trips, dp[j] + 1)\n",
    "        dp[i] = max_trips\n",
    "    \n",
    "    return max(dp)\n",
    "\n",
    "\n",
    "sample_mountains = [2903, 3070, 3335, 3371, 3451, 3564]\n",
    "print(calc_number_of_trips(sample_mountains))  \n",
    "\n",
    "\n",
    "taiwan_mountains = [(\"Beikeke'erbo\", 2902), ('Andongkun', 2903), ('Jiabeili', 2903), ('Shiwan', 2905), ('Wangtai', 2907), ('Jingjie', 2910), ('Zhiwan', 2913), ('Luli', 2914), ('Sanchi', 2919), ('Xibadulan', 2920), ('Apolan', 2922), (\"Keke'erbo\", 2926), ('Jinzi', 2928), ('Meinaitian', 2930), ('Duiguan', 2936), ('Luntaiwun', 2937), ('Jilong', 2938), ('Kashe', 2947), ('Wumeilangbang', 2950), ('Baiguchi', 2957), ('Wule', 2972), ('Guanmen', 2975), ('Zhiliangjie', 2976), ('Moyemingbing', 2976), ('Yibahou', 2979), ('Heiyan', 2980), ('Mudan', 2980), ('Nanmayang', 2980), ('Xiaoshigong', 2980), ('Lu', 2981), ('Chayan', 2987), ('Jiuxian', 2987), ('Wufanaiwei', 2987), ('Saike', 2989), ('Xiaoxue', 2997), ('Shangzhi', 2997), ('Liushun', 3000), ('Xiazhizhu', 3000), ('Jinzi', 3005), ('Yunshui', 3013), ('Dalishi', 3014), ('Bulakesang', 3020), ('Guanmen', 3022), ('Maxibaxiu', 3022), ('Wukedongke', 3022), ('Bashawan', 3029), ('Dashigong', 3030), ('Wumeilangpang', 3031), ('Yangtou', 3035), ('Abala', 3044), ('Yusui', 3045), ('Qingshui', 3048), ('Shuangzi', 3049), ('Linzhuan', 3053), ('Puluoxikuo', 3055), ('Guangtou', 3060), ('Awangnalai', 3061), ('Andongjun', 3068), ('Liwu', 3070), ('Tafen', 3070), ('Kehan', 3080), ('Xiluan', 3081), ('Zhimahan', 3085), ('Beidawu', 3092), (\"Kahe'er\", 3100), ('Patuolu', 3101), ('Baishi', 3110), ('Rendai', 3110), ('Jiali', 3112), ('Kuhanuoxin', 3115), ('Xinxian', 3120), ('Kelaye', 3133), ('Zhimo', 3140), ('Shenmazhen', 3141), ('Xihehuan', 3145), ('Jiuhua', 3155), ('Ganshu', 3158), ('Lianli', 3161), ('Batuonuofu', 3165), ('Beimian', 3167), ('Shuan', 3168), ('Zhongxue', 3173), ('Hainuonan', 3175), ('Lulilaluo', 3175), ('Guanshanling', 3176), ('Dafenjian', 3190), (\"Yeba'ao\", 3192), ('Beibilu', 3193), ('Tailunaxi', 3200), ('Youpolan', 3208), ('Hongyai', 3210), ('Shilun', 3210), ('Mabishan', 3211), ('Hehuanjian', 3217), ('Taguan', 3222), ('Konglongjian', 3230), ('Wushuang', 3231), ('Danan', 3239), ('Mu', 3241), ('Wangxiang', 3241), ('Yixiqingmazhi', 3245), ('Xiaoguan', 3249), ('Malubalarang', 3250), ('Pingfeng', 3250), ('Shangzhizhu', 3250), ('Jian', 3253), ('Wandong', 3258), ('Yingzizui', 3262), ('Jun', 3263), ('Neiling′er', 3270), ('Shimen', 3270), ('Lingming', 3272), ('Xitou', 3272), ('Kexipanan', 3276), ('Lulu', 3279), ('Jiannanjian', 3280), ('Taroko', 3283), ('Ganzhuowan', 3284), ('Bufuqihan', 3290), ('Duanlengdong', 3290), ('Ju', 3290), ('Mobaolai', 3290), ('Beinan', 3295), ('Yize', 3297), ('Chiyou', 3303), ('Wangyai', 3307), ('Huoshi', 3310), ('Duanlengxi', 3313), ('Jiayang', 3314), ('Tiangongbaolei', 3315), ('Tao', 3325), ('Manaike', 3326), ('Xinkang', 3331), ('Batongguan', 3335), ('Panshi', 3335), ('Bugan', 3339), ('Dan', 3340), ('Zhijiayang', 3340), ('Limen', 3340), ('Baigu', 3341), ('Badufu', 3345), ('Huangdangkuo', 3348), ('Nenggao', 3349), ('Dongbajian', 3360), ('Nanshuangtou', 3360), ('Zhuoshe', 3369), ('Bilu', 3371), ('Gongshui', 3374), ('Guimenguan', 3380), ('Kaluolou', 3380), ('Nadashuiku', 3381), ('Qilaili', 3383), ('Nanyu', 3383), ('Buchenxilun', 3384), ('Zhongbajian', 3392), ('Bashalayun', 3402), ('Tiannankelang', 3404), ('Fuwan', 3417), ('Xiaobajian', 3418), ('Hehuan', 3422), ('Qilaichi', 3430), ('Jupen', 3432), ('Zhu', 3437), ('Buxiulan', 3438), ('Pipida', 3440), ('Maxi', 3443), ('Benxiang', 3447), ('Baba', 3449), ('Wuming', 3451), ('Dongluan', 3468), ('Jundong', 3477), ('Maliyawenlu', 3483), ('Dabajian', 3492), ('Sancha', 3496), ('Taosai', 3500), ('Touying', 3510), ('Wudapei', 3512), ('Sumida', 3517), ('Qijun', 3519), (\"Kelekele'an\", 3520), ('Pintian', 3524), ('Daxue', 3530), ('Nanhubei', 3536), ('Malijianan', 3546), ('Cloud', 3564), ('Dajian', 3594), ('Xiangyang', 3603), ('Qilai', 3608), ('Cuichisancha', 3610), ('Dongjun', 3619), ('Mutelebu', 3626), ('Dashuiku', 3630), ('Matelan', 3660), ('Guan', 3668), ('Central', 3705), ('Dongxiaonan', 3711), ('Kailantekun', 3730), ('Nanhu', 3742), ('Mabolasi', 3765), ('Xiuguluan', 3825), ('Xueshan', 3886), ('Yushan', 3952)]\n",
    "     \n",
    "print(calc_number_of_trips(taiwan_mountains))\n"
   ]
  },
  {
   "cell_type": "markdown",
   "id": "f7041140",
   "metadata": {},
   "source": []
  },
  {
   "cell_type": "markdown",
   "id": "a02ebf60",
   "metadata": {},
   "source": [
    "<p>Show your work and explain your answer in this cell. You can add additional markdown and code cells, if you want to after this cell.</p>"
   ]
  },
  {
   "cell_type": "markdown",
   "id": "0fe9e59d",
   "metadata": {},
   "source": [
    "<!-- </div> --><!-- end of question_frame -->\n"
   ]
  },
  {
   "cell_type": "markdown",
   "id": "f2bdafbe",
   "metadata": {},
   "source": [
    "<!-- <div class=\"question_frame\"> --><!-- start of question_frame -->\n"
   ]
  },
  {
   "cell_type": "markdown",
   "id": "6d4e3000",
   "metadata": {},
   "source": [
    "\n",
    "<h1>Runtime Estimate of <code>calc_number_of_trips</code></h1>\n",
    "<div class=\"question_body\">\n",
    "\n",
    "<p>Your algorithm runs for 189 seconds with a list of 240 mountains.</p>\n",
    "\n",
    "</div><!-- end of question_body -->\n"
   ]
  },
  {
   "cell_type": "markdown",
   "id": "2150e295",
   "metadata": {},
   "source": [
    "\n",
    "<div class=\"question_marks\">\n",
    "<span class=\"mark_num\" style=\"text-align:right\">6</span> marks\n",
    "</div><!-- end of question_marks -->\n"
   ]
  },
  {
   "cell_type": "markdown",
   "id": "ae3e7141",
   "metadata": {},
   "source": [
    "\n",
    "<p>Estimate the average runtime of your algorithm, if you extend the list of\n",
    "mountains to 960 mountains.</p>\n",
    "<p>\n",
    "Average runtime for a list with 960 mountains: 3024 seconds.\n",
    "</p>\n"
   ]
  },
  {
   "cell_type": "markdown",
   "id": "66f20642",
   "metadata": {},
   "source": [
    "<p>Show your work and explain your answer in this cell. You can add additional markdown and code cells, if you want to after this cell.</p>"
   ]
  },
  {
   "cell_type": "markdown",
   "id": "b34b81f6",
   "metadata": {},
   "source": [
    "189 x (960/240) = 3024"
   ]
  },
  {
   "cell_type": "markdown",
   "id": "a1586a38",
   "metadata": {},
   "source": [
    "<!-- </div> --><!-- end of question_frame -->\n"
   ]
  }
 ],
 "metadata": {
  "kernelspec": {
   "display_name": "Python 3",
   "language": "python",
   "name": "python3"
  },
  "language_info": {
   "codemirror_mode": {
    "name": "ipython",
    "version": 3
   },
   "file_extension": ".py",
   "mimetype": "text/x-python",
   "name": "python",
   "nbconvert_exporter": "python",
   "pygments_lexer": "ipython3",
   "version": "3.8.10"
  }
 },
 "nbformat": 4,
 "nbformat_minor": 5
}
